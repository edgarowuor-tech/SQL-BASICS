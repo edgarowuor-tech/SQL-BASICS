{
 "cells": [
  {
   "cell_type": "code",
   "execution_count": 1,
   "id": "49c8271a",
   "metadata": {},
   "outputs": [],
   "source": [
    "import sqlite3\n",
    "conn=sqlite3.connect(\"school_database.db\")\n",
    "cur=conn.cursor()"
   ]
  },
  {
   "cell_type": "code",
   "execution_count": 2,
   "id": "4aac3720",
   "metadata": {},
   "outputs": [
    {
     "ename": "OperationalError",
     "evalue": "table school already exists",
     "output_type": "error",
     "traceback": [
      "\u001b[1;31m---------------------------------------------------------------------------\u001b[0m",
      "\u001b[1;31mOperationalError\u001b[0m                          Traceback (most recent call last)",
      "\u001b[1;32m<ipython-input-2-acfd6096dd0b>\u001b[0m in \u001b[0;36m<module>\u001b[1;34m\u001b[0m\n\u001b[1;32m----> 1\u001b[1;33m cur.execute(\"\"\" CREATE TABLE school(\n\u001b[0m\u001b[0;32m      2\u001b[0m             \u001b[0mid\u001b[0m \u001b[0mINTEGER\u001b[0m \u001b[0mPRIMARY\u001b[0m \u001b[0mKEY\u001b[0m\u001b[1;33m,\u001b[0m\u001b[1;33m\u001b[0m\u001b[1;33m\u001b[0m\u001b[0m\n\u001b[0;32m      3\u001b[0m             \u001b[0mname\u001b[0m \u001b[0mTEXT\u001b[0m\u001b[1;33m,\u001b[0m\u001b[1;33m\u001b[0m\u001b[1;33m\u001b[0m\u001b[0m\n\u001b[0;32m      4\u001b[0m             \u001b[0mage\u001b[0m \u001b[0mINTEGER\u001b[0m\u001b[1;33m,\u001b[0m\u001b[1;33m\u001b[0m\u001b[1;33m\u001b[0m\u001b[0m\n\u001b[0;32m      5\u001b[0m             email TEXT)\"\"\"\n",
      "\u001b[1;31mOperationalError\u001b[0m: table school already exists"
     ]
    }
   ],
   "source": [
    "cur.execute(\"\"\" CREATE TABLE school(\n",
    "            id INTEGER PRIMARY KEY,\n",
    "            name TEXT,\n",
    "            age INTEGER,\n",
    "            email TEXT)\"\"\"\n",
    "            )"
   ]
  },
  {
   "cell_type": "code",
   "execution_count": null,
   "id": "157b2a4f",
   "metadata": {},
   "outputs": [],
   "source": [
    "cur.execute(\"\"\" INSERT INTO school(name,age,email)\n",
    "            VALUES('Alice',14,'alice@gmail.com');\"\"\")"
   ]
  },
  {
   "cell_type": "code",
   "execution_count": null,
   "id": "c38028fa",
   "metadata": {},
   "outputs": [],
   "source": [
    "query=\"\"\"SELECT * FROM school;\"\"\"\n",
    "result=cur.execute(query).fetchall()\n",
    "print(result)"
   ]
  },
  {
   "cell_type": "code",
   "execution_count": null,
   "id": "8edfe85d",
   "metadata": {},
   "outputs": [],
   "source": [
    "#CRUD OPERATIONS: CREATE,UPDATE,INSERT,DELETE,ALTER\n",
    "#adding another column\n",
    "cur.execute(\"\"\"ALTER TABLE school ADD COLUMN school_name TEXT;\"\"\")"
   ]
  },
  {
   "cell_type": "code",
   "execution_count": null,
   "id": "4934561b",
   "metadata": {},
   "outputs": [],
   "source": [
    "#update values\n",
    "cur.execute(\"\"\"UPDATE school SET school_name='ABC High School' WHERE name ='Alice';\"\"\")"
   ]
  },
  {
   "cell_type": "code",
   "execution_count": null,
   "id": "18396bb5",
   "metadata": {},
   "outputs": [],
   "source": [
    "query=\"\"\"SELECT *FROM school;\"\"\"\n",
    "result=cur.execute(query).fetchall()\n",
    "print(result)"
   ]
  },
  {
   "cell_type": "code",
   "execution_count": null,
   "id": "6dd7c11a",
   "metadata": {},
   "outputs": [],
   "source": [
    "cur.execute(\"\"\"ALTER TABLE school ADD COLUMN cohort TEXT;\"\"\")"
   ]
  },
  {
   "cell_type": "code",
   "execution_count": null,
   "id": "92727b7e",
   "metadata": {},
   "outputs": [],
   "source": [
    "cur.execute(\"\"\"UPDATE school SET cohort='September' WHERE name ='Alice';\"\"\")"
   ]
  },
  {
   "cell_type": "code",
   "execution_count": null,
   "id": "97d086f6",
   "metadata": {},
   "outputs": [],
   "source": [
    "query=\"\"\"SELECT *FROM school;\"\"\"\n",
    "result=cur.execute(query).fetchall()\n",
    "print(result)"
   ]
  },
  {
   "cell_type": "code",
   "execution_count": null,
   "id": "4a159a7e",
   "metadata": {},
   "outputs": [],
   "source": [
    "cur.execute(\"\"\" INSERT INTO school(name,age,email,school_name,cohort)\n",
    "            VALUES('Bob',15,'bobe@gmail.com','XYZ','October');\"\"\")"
   ]
  },
  {
   "cell_type": "code",
   "execution_count": null,
   "id": "8912843b",
   "metadata": {},
   "outputs": [],
   "source": [
    "cur.execute(\"\"\" INSERT INTO school(name,age,email,school_name,cohort)\n",
    "            VALUES('Charlie',18,'chalie@gmail.com','NAB','April');\"\"\")"
   ]
  },
  {
   "cell_type": "code",
   "execution_count": null,
   "id": "799cde65",
   "metadata": {},
   "outputs": [],
   "source": [
    "query=\"\"\"SELECT *FROM school;\"\"\"\n",
    "result=cur.execute(query).fetchall()\n",
    "print(result)"
   ]
  },
  {
   "cell_type": "code",
   "execution_count": null,
   "id": "2231a80f",
   "metadata": {},
   "outputs": [],
   "source": [
    "#delete \n",
    "cur.execute(\"\"\" DELETE FROM school WHERE id=2;\"\"\")"
   ]
  },
  {
   "cell_type": "code",
   "execution_count": null,
   "id": "3e4c8c46",
   "metadata": {},
   "outputs": [],
   "source": [
    "query=\"\"\"SELECT *FROM school;\"\"\"\n",
    "result=cur.execute(query).fetchall()\n",
    "print(result)"
   ]
  },
  {
   "cell_type": "code",
   "execution_count": null,
   "id": "1fe7d1ca",
   "metadata": {},
   "outputs": [],
   "source": [
    "conn.close"
   ]
  },
  {
   "cell_type": "markdown",
   "id": "8faec747",
   "metadata": {},
   "source": [
    "JOIN"
   ]
  },
  {
   "cell_type": "code",
   "execution_count": null,
   "id": "da03849f",
   "metadata": {},
   "outputs": [],
   "source": [
    "#JOIN,CONNECTION OF TWO TABLES\n",
    "\n"
   ]
  }
 ],
 "metadata": {
  "kernelspec": {
   "display_name": "learn-env",
   "language": "python",
   "name": "python3"
  },
  "language_info": {
   "codemirror_mode": {
    "name": "ipython",
    "version": 3
   },
   "file_extension": ".py",
   "mimetype": "text/x-python",
   "name": "python",
   "nbconvert_exporter": "python",
   "pygments_lexer": "ipython3",
   "version": "3.8.5"
  }
 },
 "nbformat": 4,
 "nbformat_minor": 5
}
